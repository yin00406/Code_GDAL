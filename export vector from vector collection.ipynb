{
  "nbformat": 4,
  "nbformat_minor": 0,
  "metadata": {
    "colab": {
      "provenance": [],
      "authorship_tag": "ABX9TyP+SPhY0XUdTV3SKS+gd6MJ",
      "include_colab_link": true
    },
    "kernelspec": {
      "name": "python3",
      "display_name": "Python 3"
    },
    "language_info": {
      "name": "python"
    }
  },
  "cells": [
    {
      "cell_type": "markdown",
      "metadata": {
        "id": "view-in-github",
        "colab_type": "text"
      },
      "source": [
        "<a href=\"https://colab.research.google.com/github/yin00406/Code_GDAL/blob/main/export%20vector%20from%20vector%20collection.ipynb\" target=\"_parent\"><img src=\"https://colab.research.google.com/assets/colab-badge.svg\" alt=\"Open In Colab\"/></a>"
      ]
    },
    {
      "cell_type": "markdown",
      "source": [
        "**Iteratively output .shp, .shx, .prj, .dbf for each element in a shapefile**"
      ],
      "metadata": {
        "id": "tNqbu6J5vPwc"
      }
    },
    {
      "cell_type": "code",
      "source": [
        "from google.colab import drive\n",
        "drive.mount('/content/drive')\n",
        "root_Drive = \"/content/drive/My Drive/\""
      ],
      "metadata": {
        "colab": {
          "base_uri": "https://localhost:8080/"
        },
        "id": "WKDPSKwBsSty",
        "outputId": "62d7fded-262e-4a64-b677-a7720a0ee9f9"
      },
      "execution_count": 1,
      "outputs": [
        {
          "output_type": "stream",
          "name": "stdout",
          "text": [
            "Drive already mounted at /content/drive; to attempt to forcibly remount, call drive.mount(\"/content/drive\", force_remount=True).\n"
          ]
        }
      ]
    },
    {
      "cell_type": "code",
      "execution_count": 2,
      "metadata": {
        "id": "07BYzjXeq6aC"
      },
      "outputs": [],
      "source": [
        "from osgeo import ogr\n",
        "import os"
      ]
    },
    {
      "cell_type": "code",
      "source": [
        "# CONFIG\n",
        "colName = \"PageName\"\n",
        "\n",
        "# Define the path to your original shapefile and the output directory\n",
        "osr_file = os.path.join(root_Drive, \"Research&Project/Cashew/Cashew_map_West-Africa/NGA\", \"NGA_grids_90km.shp\") #c\n",
        "tst_folder = os.path.join(root_Drive, \"Research&Project/Cashew/Cashew_map_West-Africa/NGA/NGA_grids_90km\") #c\n",
        "\n",
        "# Open the original shapefile\n",
        "driver = ogr.GetDriverByName('ESRI Shapefile')\n",
        "dataSource = driver.Open(osr_file, 0)  # 0 means read-only. Use 1 for write access.\n",
        "layer = dataSource.GetLayer()"
      ],
      "metadata": {
        "id": "PXEyjsf-rk0U"
      },
      "execution_count": 5,
      "outputs": []
    },
    {
      "cell_type": "code",
      "source": [
        "# Iterate over features in the original shapefile\n",
        "for feature in layer:\n",
        "    # Get the value of the 'colName' attribute\n",
        "    col = feature.GetField(colName)\n",
        "\n",
        "    # Create a valid filename from the 'colName' attribute\n",
        "    filename = f\"NGA_{col}.shp\" #c\n",
        "    output_shapefile = os.path.join(tst_folder, filename)\n",
        "\n",
        "    # Check if the output shapefile already exists. If so, delete it\n",
        "    if os.path.exists(output_shapefile):\n",
        "        driver.DeleteDataSource(output_shapefile)\n",
        "\n",
        "    # Create a new shapefile for the current feature\n",
        "    outDataSource = driver.CreateDataSource(output_shapefile)\n",
        "    outLayer = outDataSource.CreateLayer(\"feature\", geom_type=layer.GetGeomType())\n",
        "\n",
        "    # Add fields to the newly created shapefile\n",
        "    layerDefn = layer.GetLayerDefn()\n",
        "    for i in range(layerDefn.GetFieldCount()):\n",
        "        fieldDefn = layerDefn.GetFieldDefn(i)\n",
        "        outLayer.CreateField(fieldDefn)\n",
        "\n",
        "    # Create a new feature for the output layer\n",
        "    outFeature = ogr.Feature(outLayer.GetLayerDefn())\n",
        "\n",
        "    # Set field values from the original feature\n",
        "    for i in range(layerDefn.GetFieldCount()):\n",
        "        outFeature.SetField(outLayer.GetLayerDefn().GetFieldDefn(i).GetNameRef(), feature.GetField(i))\n",
        "\n",
        "    # Set the geometry\n",
        "    geom = feature.GetGeometryRef()\n",
        "    outFeature.SetGeometry(geom.Clone())\n",
        "\n",
        "    # Add the feature to the output layer\n",
        "    outLayer.CreateFeature(outFeature)\n",
        "\n",
        "    # Create the .prj file with the same filename as the shapefile\n",
        "    prj_filename = output_shapefile.replace(\".shp\", \".prj\")\n",
        "    # Get the spatial reference from the original layer\n",
        "    spatialRef = layer.GetSpatialRef()\n",
        "    # Write the spatial reference to the .prj file\n",
        "    with open(prj_filename, \"w\") as prj_file:\n",
        "        prj_file.write(spatialRef.ExportToWkt())\n",
        "\n",
        "    # Cleanup\n",
        "    outFeature = None\n",
        "    outDataSource = None\n",
        "    outLayer = None\n",
        "\n",
        "# Cleanup\n",
        "dataSource = None"
      ],
      "metadata": {
        "id": "m5ZANBiQuNFk"
      },
      "execution_count": 6,
      "outputs": []
    }
  ]
}