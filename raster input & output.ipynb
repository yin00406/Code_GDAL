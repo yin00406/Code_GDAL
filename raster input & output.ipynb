{
  "nbformat": 4,
  "nbformat_minor": 0,
  "metadata": {
    "colab": {
      "provenance": [],
      "authorship_tag": "ABX9TyMHqkcp9msdKOjpEYK6mVaD",
      "include_colab_link": true
    },
    "kernelspec": {
      "name": "python3",
      "display_name": "Python 3"
    },
    "language_info": {
      "name": "python"
    }
  },
  "cells": [
    {
      "cell_type": "markdown",
      "metadata": {
        "id": "view-in-github",
        "colab_type": "text"
      },
      "source": [
        "<a href=\"https://colab.research.google.com/github/yin00406/Code_GDAL/blob/main/raster%20input%20%26%20output.ipynb\" target=\"_parent\"><img src=\"https://colab.research.google.com/assets/colab-badge.svg\" alt=\"Open In Colab\"/></a>"
      ]
    },
    {
      "cell_type": "code",
      "execution_count": null,
      "metadata": {
        "id": "9_DcVDN_yyzc"
      },
      "outputs": [],
      "source": [
        "# READ RASTER FILE\n",
        "raster = gdal.Open(raster_file)\n",
        "raster_geo = raster.GetGeoTransform() # Geographic Coordinate System\n",
        "raster_proj = raster.GetProjection() # Projected Coordinate System\n",
        "top_left_x = raster_geotrans[0]\n",
        "top_left_y = raster_geotrans[3]\n",
        "w_e_pixel_resolution = raster_geotrans[1]\n",
        "n_s_pixel_resolution = raster_geotrans[5]\n",
        "raster_XSize = raster.RasterXSize\n",
        "raster_YSize = raster.RasterYSize\n",
        "raster_array = raster.ReadAsArray(top_left_x,top_left_y,raster_XSize,raster_YSize)"
      ]
    },
    {
      "cell_type": "code",
      "source": [
        "# SAVE RASTER FILE\n",
        "channel_num = raster_array.shape[0]\n",
        "new_geotrans = (top_left_x, w_e_pixel_resolution, rotation_0, top_left_y, rotation_1,n_s_pixel_resolution)\n",
        "driver = gdal.GetDriverByName(\"GTiff\")\n",
        "dataset = driver.Create(savePath, raster_array.shape[2], raster_array.shape[1], channel_num, datatype,options=[\"COMPRESS=LZW\"])\n",
        "# datatype: https://naturalatlas.github.io/node-gdal/classes/Constants%20(GDT).html\n",
        "if dataset is not None:\n",
        "    dataset.SetGeoTransform(new_geotrans)  # write Geographic Coordinate System\n",
        "    dataset.SetProjection(raster_proj)  # write Projected Coordinate System\n",
        "    for i in range(channel_num):\n",
        "        dataset.GetRasterBand(i + 1).WriteArray(raster_array[i, :, :])\n",
        "\n",
        "\n",
        "raster_array.shape[2]: same to raster.GetRasterBand(1).XSize"
      ],
      "metadata": {
        "id": "X4-2ulwPy2Xr"
      },
      "execution_count": null,
      "outputs": []
    }
  ]
}